{
  "nbformat": 4,
  "nbformat_minor": 0,
  "metadata": {
    "colab": {
      "name": "PythonPractice.ipynb",
      "provenance": [],
      "collapsed_sections": []
    },
    "kernelspec": {
      "name": "python3",
      "display_name": "Python 3"
    }
  },
  "cells": [
    {
      "cell_type": "code",
      "metadata": {
        "id": "596ESMhohNVt",
        "colab_type": "code",
        "colab": {
          "base_uri": "https://localhost:8080/",
          "height": 384
        },
        "outputId": "09094e9f-9a2a-44c2-8484-37d39ff1e8ef"
      },
      "source": [
        "for j in range(0,10):\n",
        "  print(j)\n",
        "  print('Mohammed will finish his PhD soon!')"
      ],
      "execution_count": 2,
      "outputs": [
        {
          "output_type": "stream",
          "text": [
            "0\n",
            "Mohammed will finish his PhD soon!\n",
            "1\n",
            "Mohammed will finish his PhD soon!\n",
            "2\n",
            "Mohammed will finish his PhD soon!\n",
            "3\n",
            "Mohammed will finish his PhD soon!\n",
            "4\n",
            "Mohammed will finish his PhD soon!\n",
            "5\n",
            "Mohammed will finish his PhD soon!\n",
            "6\n",
            "Mohammed will finish his PhD soon!\n",
            "7\n",
            "Mohammed will finish his PhD soon!\n",
            "8\n",
            "Mohammed will finish his PhD soon!\n",
            "9\n",
            "Mohammed will finish his PhD soon!\n"
          ],
          "name": "stdout"
        }
      ]
    }
  ]
}